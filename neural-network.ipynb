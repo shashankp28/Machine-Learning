{
 "cells": [
  {
   "cell_type": "markdown",
   "metadata": {},
   "source": [
    "# Importing Libraries"
   ]
  },
  {
   "cell_type": "code",
   "execution_count": 6,
   "metadata": {},
   "outputs": [],
   "source": [
    "import numpy as np\n",
    "import tensorflow as tf\n",
    "from tqdm.notebook import tqdm\n",
    "import matplotlib.pyplot as plt"
   ]
  },
  {
   "cell_type": "markdown",
   "metadata": {},
   "source": [
    "# Download MNIST Handwritten Digits Dataset"
   ]
  },
  {
   "cell_type": "code",
   "execution_count": 7,
   "metadata": {},
   "outputs": [],
   "source": [
    "mnist = tf.keras.datasets.mnist\n",
    "(train_images, train_labels), (test_images, test_labels) = mnist.load_data()\n",
    "\n",
    "train_images = train_images.astype('float32') / 255.0\n",
    "test_images = test_images.astype('float32') / 255.0\n",
    "\n",
    "train_images = train_images.reshape(train_images.shape[0], -1)\n",
    "test_images = test_images.reshape(test_images.shape[0], -1)\n",
    "\n",
    "train_labels = tf.keras.utils.to_categorical(train_labels, 10)\n",
    "test_labels = tf.keras.utils.to_categorical(test_labels, 10)"
   ]
  },
  {
   "cell_type": "markdown",
   "metadata": {},
   "source": [
    "# Define Activation Functions"
   ]
  },
  {
   "cell_type": "code",
   "execution_count": 8,
   "metadata": {},
   "outputs": [],
   "source": [
    "def sigmoid(x, derivative=False):\n",
    "    if derivative:\n",
    "        return sigmoid(x) * (1 - sigmoid(x))\n",
    "    return 1 / (1 + np.exp(-x))\n",
    "\n",
    "def relu(x, derivative=False):\n",
    "    if derivative:\n",
    "        return np.where(x > 0, 1, 0)\n",
    "    return np.maximum(0, x)\n",
    "\n",
    "def softmax(x, derivative=False):\n",
    "    if derivative:\n",
    "        return x * (1 - x)\n",
    "    return np.exp(x) / np.sum(np.exp(x))"
   ]
  },
  {
   "cell_type": "markdown",
   "metadata": {},
   "source": [
    "# Define the Model Class"
   ]
  },
  {
   "cell_type": "code",
   "execution_count": 9,
   "metadata": {},
   "outputs": [],
   "source": [
    "class Model:\n",
    "    \n",
    "    def __init__(self):\n",
    "        self.layers = []\n",
    "\n",
    "    def add_layer(self, activation, output_dim: int, input_dim: int = None):\n",
    "        if input_dim is None and len(self.layers) == 0:\n",
    "            raise ValueError(\"Input dimension must be specified for the first layer\")\n",
    "        input_dim = self.layers[-1][\"weights\"].shape[0] if input_dim is None else input_dim\n",
    "        weight_matrix = np.random.randn(output_dim, input_dim+1)\n",
    "        layer = {}\n",
    "        layer[\"weights\"] = weight_matrix\n",
    "        layer[\"activation\"] = activation\n",
    "        self.layers.append(layer)\n",
    "\n",
    "    def summary(self):\n",
    "        no_params = 0\n",
    "        for i, layer in enumerate(self.layers):\n",
    "            params = layer[\"weights\"].shape\n",
    "            curr_params = params[0] * params[1]\n",
    "            no_params += curr_params\n",
    "            print(f\"Layer {i}: \", end=\" \")\n",
    "            print(f\"Params: {params} = {curr_params}\", end=\" \")\n",
    "            print(f\" Activation: {layer['activation'].__name__}\")\n",
    "        print(\"-\"*60)\n",
    "        print(\"Total Trainable Params:\", no_params)\n",
    "\n",
    "    def forward_step(self, layer_no, input):\n",
    "        if input.ndim == 1:\n",
    "            input = np.append(input, 1)\n",
    "        else:\n",
    "            input = np.vstack([input, np.ones(input.shape[1])])\n",
    "        output = self.layers[layer_no][\"weights\"] @ input\n",
    "        return output\n",
    "\n",
    "    def get_prev_delta(self, layer_no, layer_output, next_delta):\n",
    "        W = self.layers[layer_no+1][\"weights\"].T\n",
    "        activation = self.layers[layer_no][\"activation\"]\n",
    "        output_part = activation(layer_output, derivative=True)\n",
    "        output_part = np.append(output_part, 0)\n",
    "        result = np.multiply(W @ next_delta, output_part)\n",
    "        return result[:-1]\n",
    "        \n",
    "    def train_step(self, x, y, learning_rate, total):\n",
    "        L = len(self.layers)\n",
    "        outputs = []\n",
    "        next_input = x\n",
    "        for i in range(len(self.layers)):\n",
    "            output = self.forward_step(i, next_input)\n",
    "            outputs.append(output)\n",
    "            next_input = self.layers[i][\"activation\"](output)\n",
    "        y_hat = next_input\n",
    "        deltas = [None]*L\n",
    "        \n",
    "        # Calculate deltas\n",
    "        deltas[L-1] = (y_hat - y) * self.layers[L-1][\"activation\"](y_hat, derivative=True)\n",
    "        for i in range(L-2, -1, -1):\n",
    "            deltas[i] = self.get_prev_delta(i, outputs[i], deltas[i+1])\n",
    "        \n",
    "        # Update weights\n",
    "        for i in range(L):\n",
    "            delta_val = deltas[i]\n",
    "            prev_output = x if i == 0 else outputs[i-1]\n",
    "            delta_val = np.reshape(delta_val, (-1, 1))\n",
    "            prev_output = np.append(prev_output, 1)\n",
    "            prev_output = np.reshape(prev_output, (1, -1))\n",
    "            self.layers[i][\"weights\"] -= learning_rate * (delta_val @ prev_output) / total\n",
    "\n",
    "    def dimention_check(self, X, y: None):\n",
    "        # X: Checks\n",
    "        if len(X.shape) != 2:\n",
    "            raise ValueError(\"Input shape must be (N, D), N: smaples\")\n",
    "        if X.shape[1] != self.layers[0][\"weights\"].shape[1] - 1:\n",
    "            req_dim = self.layers[0][\"weights\"].shape[1] - 1\n",
    "            got_dim = X.shape[0]\n",
    "            raise ValueError(\n",
    "                f\"Input shape {got_dim} does not match input dimension {req_dim}\")\n",
    "        if y is not None:\n",
    "            # Y: Checks\n",
    "            if len(y.shape) != 2:\n",
    "                raise ValueError(\"Input shape must be (N, D), N: smaples\")\n",
    "            if y.shape[1] != self.layers[-1][\"weights\"].shape[0]:\n",
    "                req_dim = self.layers[-1][\"weights\"].shape[0]\n",
    "                got_dim = y.shape[0]\n",
    "                raise ValueError(\n",
    "                    f\"Output shape {got_dim} does not match output dimension {req_dim}\")\n",
    "            if y.shape[0] != X.shape[0]:\n",
    "                raise ValueError(\"Number of samples in X and y do not match\")\n",
    "\n",
    "    def predict(self, X):\n",
    "        self.dimention_check(X, None)\n",
    "        next_input = X.T\n",
    "        for i in range(len(self.layers)):\n",
    "            output = self.forward_step(i, next_input)\n",
    "            next_input = np.array(\n",
    "                [self.layers[i][\"activation\"](col) for col in output.T]).T\n",
    "        return next_input\n",
    "\n",
    "    def cost(self, X, y):\n",
    "        all_y_hat = self.predict(X)\n",
    "        all_y_hat = all_y_hat.T\n",
    "        return np.mean(np.sum((y - all_y_hat)**2, axis=1))\n",
    "\n",
    "    def train(self, X, y, learning_rate, epochs):\n",
    "        self.dimention_check(X, y)\n",
    "        initial_cost = self.cost(X, y)\n",
    "        costs = [initial_cost]\n",
    "        print(f\"Initial Cost: {initial_cost}\")\n",
    "        for epoch in range(epochs):\n",
    "            print(f\"Epoch {epoch+1}/{epochs}\")\n",
    "            for i in tqdm(range(X.shape[0])):\n",
    "                self.train_step(X[i], y[i], learning_rate, X.shape[0])\n",
    "            costs += [self.cost(X, y)]\n",
    "            print(f\"Cost: {costs[-1]}\")\n",
    "        return costs"
   ]
  },
  {
   "cell_type": "markdown",
   "metadata": {},
   "source": [
    "# Train the Model"
   ]
  },
  {
   "cell_type": "code",
   "execution_count": 10,
   "metadata": {},
   "outputs": [
    {
     "name": "stdout",
     "output_type": "stream",
     "text": [
      "Layer 0:  Params: (16, 785) = 12560  Activation: sigmoid\n",
      "Layer 1:  Params: (16, 17) = 272  Activation: sigmoid\n",
      "Layer 2:  Params: (10, 17) = 170  Activation: softmax\n",
      "------------------------------------------------------------\n",
      "Total Trainable Params: 13002\n"
     ]
    },
    {
     "name": "stdout",
     "output_type": "stream",
     "text": [
      "Initial Cost: 1.0879082855010151\n",
      "Epoch 1/10\n"
     ]
    },
    {
     "data": {
      "application/vnd.jupyter.widget-view+json": {
       "model_id": "d7a1b02c00b443e8be94436de7868146",
       "version_major": 2,
       "version_minor": 0
      },
      "text/plain": [
       "  0%|          | 0/60000 [00:00<?, ?it/s]"
      ]
     },
     "metadata": {},
     "output_type": "display_data"
    },
    {
     "name": "stdout",
     "output_type": "stream",
     "text": [
      "Cost: 0.46985710412740456\n",
      "Epoch 2/10\n"
     ]
    },
    {
     "data": {
      "application/vnd.jupyter.widget-view+json": {
       "model_id": "db844e68bfca4550a436d001d947b45d",
       "version_major": 2,
       "version_minor": 0
      },
      "text/plain": [
       "  0%|          | 0/60000 [00:00<?, ?it/s]"
      ]
     },
     "metadata": {},
     "output_type": "display_data"
    },
    {
     "name": "stdout",
     "output_type": "stream",
     "text": [
      "Cost: 0.41570668547967216\n",
      "Epoch 3/10\n"
     ]
    },
    {
     "data": {
      "application/vnd.jupyter.widget-view+json": {
       "model_id": "1213f274aa5a44fe9b8b5b40b0c9ff32",
       "version_major": 2,
       "version_minor": 0
      },
      "text/plain": [
       "  0%|          | 0/60000 [00:00<?, ?it/s]"
      ]
     },
     "metadata": {},
     "output_type": "display_data"
    },
    {
     "name": "stdout",
     "output_type": "stream",
     "text": [
      "Cost: 0.4060192306856192\n",
      "Epoch 4/10\n"
     ]
    },
    {
     "data": {
      "application/vnd.jupyter.widget-view+json": {
       "model_id": "8ffee185bc9e426a994c49e978624b2d",
       "version_major": 2,
       "version_minor": 0
      },
      "text/plain": [
       "  0%|          | 0/60000 [00:00<?, ?it/s]"
      ]
     },
     "metadata": {},
     "output_type": "display_data"
    },
    {
     "name": "stdout",
     "output_type": "stream",
     "text": [
      "Cost: 0.380264357280763\n",
      "Epoch 5/10\n"
     ]
    },
    {
     "data": {
      "application/vnd.jupyter.widget-view+json": {
       "model_id": "63a22b60aa774d0580c108f6f665072e",
       "version_major": 2,
       "version_minor": 0
      },
      "text/plain": [
       "  0%|          | 0/60000 [00:00<?, ?it/s]"
      ]
     },
     "metadata": {},
     "output_type": "display_data"
    },
    {
     "name": "stdout",
     "output_type": "stream",
     "text": [
      "Cost: 0.38111775810336357\n",
      "Epoch 6/10\n"
     ]
    },
    {
     "data": {
      "application/vnd.jupyter.widget-view+json": {
       "model_id": "838b6f2b3857433686a49fced9680043",
       "version_major": 2,
       "version_minor": 0
      },
      "text/plain": [
       "  0%|          | 0/60000 [00:00<?, ?it/s]"
      ]
     },
     "metadata": {},
     "output_type": "display_data"
    },
    {
     "name": "stdout",
     "output_type": "stream",
     "text": [
      "Cost: 0.32840122605928884\n",
      "Epoch 7/10\n"
     ]
    },
    {
     "data": {
      "application/vnd.jupyter.widget-view+json": {
       "model_id": "47d9db60429746b890dd83c911d3175e",
       "version_major": 2,
       "version_minor": 0
      },
      "text/plain": [
       "  0%|          | 0/60000 [00:00<?, ?it/s]"
      ]
     },
     "metadata": {},
     "output_type": "display_data"
    },
    {
     "name": "stdout",
     "output_type": "stream",
     "text": [
      "Cost: 0.3084222786095018\n",
      "Epoch 8/10\n"
     ]
    },
    {
     "data": {
      "application/vnd.jupyter.widget-view+json": {
       "model_id": "993c14a148cf41bca19ec6dcb219b177",
       "version_major": 2,
       "version_minor": 0
      },
      "text/plain": [
       "  0%|          | 0/60000 [00:00<?, ?it/s]"
      ]
     },
     "metadata": {},
     "output_type": "display_data"
    },
    {
     "name": "stdout",
     "output_type": "stream",
     "text": [
      "Cost: 0.3006555860329664\n",
      "Epoch 9/10\n"
     ]
    },
    {
     "data": {
      "application/vnd.jupyter.widget-view+json": {
       "model_id": "f74e8fbf5c254b20b551f936846867e3",
       "version_major": 2,
       "version_minor": 0
      },
      "text/plain": [
       "  0%|          | 0/60000 [00:00<?, ?it/s]"
      ]
     },
     "metadata": {},
     "output_type": "display_data"
    },
    {
     "name": "stdout",
     "output_type": "stream",
     "text": [
      "Cost: 0.3000528366737029\n",
      "Epoch 10/10\n"
     ]
    },
    {
     "data": {
      "application/vnd.jupyter.widget-view+json": {
       "model_id": "ecd4d9f0b240493bb18e88867a537397",
       "version_major": 2,
       "version_minor": 0
      },
      "text/plain": [
       "  0%|          | 0/60000 [00:00<?, ?it/s]"
      ]
     },
     "metadata": {},
     "output_type": "display_data"
    },
    {
     "name": "stdout",
     "output_type": "stream",
     "text": [
      "Cost: 0.2750974214133223\n"
     ]
    }
   ],
   "source": [
    "model = Model()\n",
    "model.add_layer(sigmoid, 16, 784)\n",
    "model.add_layer(sigmoid, 16)\n",
    "model.add_layer(softmax, 10)\n",
    "model.summary()\n",
    "\n",
    "costs = model.train(train_images, train_labels, learning_rate=700, epochs=10)"
   ]
  },
  {
   "cell_type": "markdown",
   "metadata": {},
   "source": [
    "# Plot the training Cost"
   ]
  },
  {
   "cell_type": "code",
   "execution_count": 11,
   "metadata": {},
   "outputs": [
    {
     "data": {
      "image/png": "[encoded data removed]",
      "text/plain": [
       "<Figure size 640x480 with 1 Axes>"
      ]
     },
     "metadata": {},
     "output_type": "display_data"
    }
   ],
   "source": [
    "plt.plot(costs)\n",
    "plt.title(\"Cost vs Epochs\")\n",
    "plt.xlabel(\"Epochs\")\n",
    "plt.ylabel(\"Cost\")\n",
    "plt.show()"
   ]
  },
  {
   "cell_type": "markdown",
   "metadata": {},
   "source": [
    "# Predeict for Test Data"
   ]
  },
  {
   "cell_type": "code",
   "execution_count": 13,
   "metadata": {},
   "outputs": [
    {
     "name": "stdout",
     "output_type": "stream",
     "text": [
      "Accuracy: 81.94%\n"
     ]
    }
   ],
   "source": [
    "y_pred = model.predict(test_images).T\n",
    "y_pred = np.argmax(y_pred, axis=1)\n",
    "y_true = np.argmax(test_labels, axis=1)\n",
    "\n",
    "accuracy = np.mean(y_pred == y_true)\n",
    "print(f\"Accuracy: {accuracy*100:.2f}%\")"
   ]
  },
  {
   "cell_type": "code",
   "execution_count": null,
   "metadata": {},
   "outputs": [],
   "source": []
  }
 ],
 "metadata": {
  "kernelspec": {
   "display_name": ".env",
   "language": "python",
   "name": "python3"
  },
  "language_info": {
   "codemirror_mode": {
    "name": "ipython",
    "version": 3
   },
   "file_extension": ".py",
   "mimetype": "text/x-python",
   "name": "python",
   "nbconvert_exporter": "python",
   "pygments_lexer": "ipython3",
   "version": "3.11.3"
  }
 },
 "nbformat": 4,
 "nbformat_minor": 2
}
